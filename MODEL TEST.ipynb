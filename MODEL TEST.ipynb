{
 "cells": [
  {
   "cell_type": "code",
   "execution_count": 2,
   "id": "41f9d269-5422-4882-b9ad-7c165a03d4e1",
   "metadata": {
    "tags": []
   },
   "outputs": [],
   "source": [
    "from tensorflow.keras.models import model_from_json"
   ]
  },
  {
   "cell_type": "code",
   "execution_count": 3,
   "id": "8e925fae-e942-4dd8-a709-2a10378283b3",
   "metadata": {
    "tags": []
   },
   "outputs": [],
   "source": [
    "json_file = open(\"Food Delivery Time Prediction.json\",\"r\")\n",
    "load_model_json = json_file.read()\n",
    "model = model_from_json(load_model_json)\n",
    "model.load_weights(\"Model Weights.h5\")"
   ]
  },
  {
   "cell_type": "code",
   "execution_count": null,
   "id": "1548da35-dfd2-4992-9084-d346cd1328a5",
   "metadata": {},
   "outputs": [
    {
     "name": "stdout",
     "output_type": "stream",
     "text": [
      "Model: \"sequential\"\n",
      "_________________________________________________________________\n",
      " Layer (type)                Output Shape              Param #   \n",
      "=================================================================\n",
      " lstm (LSTM)                 (None, 9, 128)            66560     \n",
      "                                                                 \n",
      " dropout (Dropout)           (None, 9, 128)            0         \n",
      "                                                                 \n",
      " lstm_1 (LSTM)               (None, 64)                49408     \n",
      "                                                                 \n",
      " dropout_1 (Dropout)         (None, 64)                0         \n",
      "                                                                 \n",
      " dense (Dense)               (None, 25)                1625      \n",
      "                                                                 \n",
      " dropout_2 (Dropout)         (None, 25)                0         \n",
      "                                                                 \n",
      " dense_1 (Dense)             (None, 1)                 26        \n",
      "                                                                 \n",
      "=================================================================\n",
      "Total params: 117619 (459.45 KB)\n",
      "Trainable params: 117619 (459.45 KB)\n",
      "Non-trainable params: 0 (0.00 Byte)\n",
      "_________________________________________________________________\n"
     ]
    }
   ],
   "source": [
    "model.summary()"
   ]
  },
  {
   "cell_type": "code",
   "execution_count": null,
   "id": "7a04c17a-8d35-4e34-bcce-f2a72a0c2086",
   "metadata": {},
   "outputs": [],
   "source": [
    "x = df[['Delivery_person_Age','Delivery_person_Ratings','Distance',\n",
    "        'WeatherMapped', 'TrafficMapped', 'OrderTypeMapped',\n",
    "        'VehicleMapped', 'FestMapped', 'CityMapped']]\n",
    "y = df['Time_taken(min)']"
   ]
  },
  {
   "cell_type": "code",
   "execution_count": 8,
   "id": "78cde2c8-ed45-4f7e-b328-95530e3d3ec9",
   "metadata": {
    "tags": []
   },
   "outputs": [
    {
     "name": "stdout",
     "output_type": "stream",
     "text": [
      "1/1 [==============================] - 0s 279ms/step\n"
     ]
    }
   ],
   "source": [
    "l = (model.predict([[29,4.8,15.958,2,1,3,0,0,2]]))"
   ]
  },
  {
   "cell_type": "code",
   "execution_count": 11,
   "id": "c3176126-659a-4527-8caf-b4d993a3b760",
   "metadata": {
    "tags": []
   },
   "outputs": [
    {
     "data": {
      "text/plain": [
       "30.733078"
      ]
     },
     "execution_count": 11,
     "metadata": {},
     "output_type": "execute_result"
    }
   ],
   "source": [
    "l[0][0]"
   ]
  },
  {
   "cell_type": "code",
   "execution_count": null,
   "id": "e275943b-5057-41bf-bc30-24bb0ac2c810",
   "metadata": {},
   "outputs": [],
   "source": []
  }
 ],
 "metadata": {
  "kernelspec": {
   "display_name": "Python 3 (ipykernel)",
   "language": "python",
   "name": "python3"
  },
  "language_info": {
   "codemirror_mode": {
    "name": "ipython",
    "version": 3
   },
   "file_extension": ".py",
   "mimetype": "text/x-python",
   "name": "python",
   "nbconvert_exporter": "python",
   "pygments_lexer": "ipython3",
   "version": "3.11.5"
  }
 },
 "nbformat": 4,
 "nbformat_minor": 5
}
