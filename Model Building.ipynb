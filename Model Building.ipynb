{
 "cells": [
  {
   "cell_type": "markdown",
   "id": "e1bd4514-e1f2-4927-b718-150842970877",
   "metadata": {},
   "source": [
    "### Importing Libraries"
   ]
  },
  {
   "cell_type": "code",
   "execution_count": 1,
   "id": "e6010622-b379-4a73-a91b-411c2ba20501",
   "metadata": {
    "tags": []
   },
   "outputs": [],
   "source": [
    "import pandas as pd\n",
    "import numpy as np\n",
    "from sklearn.model_selection import train_test_split\n",
    "from tensorflow.keras.models import save_model,load_model"
   ]
  },
  {
   "cell_type": "markdown",
   "id": "99a2689c-ec12-41df-a2f5-e39178196bb1",
   "metadata": {},
   "source": [
    "### Importing Dataset"
   ]
  },
  {
   "cell_type": "code",
   "execution_count": 2,
   "id": "cb4e34a0-b501-4f12-8790-8121a35ceab1",
   "metadata": {
    "tags": []
   },
   "outputs": [
    {
     "data": {
      "text/html": [
       "<div>\n",
       "<style scoped>\n",
       "    .dataframe tbody tr th:only-of-type {\n",
       "        vertical-align: middle;\n",
       "    }\n",
       "\n",
       "    .dataframe tbody tr th {\n",
       "        vertical-align: top;\n",
       "    }\n",
       "\n",
       "    .dataframe thead th {\n",
       "        text-align: right;\n",
       "    }\n",
       "</style>\n",
       "<table border=\"1\" class=\"dataframe\">\n",
       "  <thead>\n",
       "    <tr style=\"text-align: right;\">\n",
       "      <th></th>\n",
       "      <th>ID</th>\n",
       "      <th>Delivery_person_ID</th>\n",
       "      <th>Delivery_person_Age</th>\n",
       "      <th>Delivery_person_Ratings</th>\n",
       "      <th>Restaurant_latitude</th>\n",
       "      <th>Restaurant_longitude</th>\n",
       "      <th>Delivery_location_latitude</th>\n",
       "      <th>Delivery_location_longitude</th>\n",
       "      <th>Order_Date</th>\n",
       "      <th>Time_Orderd</th>\n",
       "      <th>...</th>\n",
       "      <th>Weatherconditions</th>\n",
       "      <th>Road_traffic_density</th>\n",
       "      <th>Vehicle_condition</th>\n",
       "      <th>Type_of_order</th>\n",
       "      <th>Type_of_vehicle</th>\n",
       "      <th>multiple_deliveries</th>\n",
       "      <th>Festival</th>\n",
       "      <th>City</th>\n",
       "      <th>Time_taken(min)</th>\n",
       "      <th>Distance</th>\n",
       "    </tr>\n",
       "  </thead>\n",
       "  <tbody>\n",
       "    <tr>\n",
       "      <th>0</th>\n",
       "      <td>0x4607</td>\n",
       "      <td>INDORES13DEL02</td>\n",
       "      <td>37.0</td>\n",
       "      <td>4.9</td>\n",
       "      <td>22.745049</td>\n",
       "      <td>75.892471</td>\n",
       "      <td>22.765049</td>\n",
       "      <td>75.912471</td>\n",
       "      <td>19-03-2022</td>\n",
       "      <td>11:30:00</td>\n",
       "      <td>...</td>\n",
       "      <td>Sunny</td>\n",
       "      <td>High</td>\n",
       "      <td>2</td>\n",
       "      <td>Snack</td>\n",
       "      <td>motorcycle</td>\n",
       "      <td>0.0</td>\n",
       "      <td>No</td>\n",
       "      <td>Urban</td>\n",
       "      <td>24</td>\n",
       "      <td>3.025149</td>\n",
       "    </tr>\n",
       "    <tr>\n",
       "      <th>1</th>\n",
       "      <td>0xb379</td>\n",
       "      <td>BANGRES18DEL02</td>\n",
       "      <td>34.0</td>\n",
       "      <td>4.5</td>\n",
       "      <td>12.913041</td>\n",
       "      <td>77.683237</td>\n",
       "      <td>13.043041</td>\n",
       "      <td>77.813237</td>\n",
       "      <td>25-03-2022</td>\n",
       "      <td>19:45:00</td>\n",
       "      <td>...</td>\n",
       "      <td>Stormy</td>\n",
       "      <td>Jam</td>\n",
       "      <td>2</td>\n",
       "      <td>Snack</td>\n",
       "      <td>scooter</td>\n",
       "      <td>1.0</td>\n",
       "      <td>No</td>\n",
       "      <td>Metropolitian</td>\n",
       "      <td>33</td>\n",
       "      <td>20.183530</td>\n",
       "    </tr>\n",
       "    <tr>\n",
       "      <th>2</th>\n",
       "      <td>0x5d6d</td>\n",
       "      <td>BANGRES19DEL01</td>\n",
       "      <td>23.0</td>\n",
       "      <td>4.4</td>\n",
       "      <td>12.914264</td>\n",
       "      <td>77.678400</td>\n",
       "      <td>12.924264</td>\n",
       "      <td>77.688400</td>\n",
       "      <td>19-03-2022</td>\n",
       "      <td>08:30:00</td>\n",
       "      <td>...</td>\n",
       "      <td>Sandstorms</td>\n",
       "      <td>Low</td>\n",
       "      <td>0</td>\n",
       "      <td>Drinks</td>\n",
       "      <td>motorcycle</td>\n",
       "      <td>1.0</td>\n",
       "      <td>No</td>\n",
       "      <td>Urban</td>\n",
       "      <td>26</td>\n",
       "      <td>1.552758</td>\n",
       "    </tr>\n",
       "    <tr>\n",
       "      <th>3</th>\n",
       "      <td>0x7a6a</td>\n",
       "      <td>COIMBRES13DEL02</td>\n",
       "      <td>38.0</td>\n",
       "      <td>4.7</td>\n",
       "      <td>11.003669</td>\n",
       "      <td>76.976494</td>\n",
       "      <td>11.053669</td>\n",
       "      <td>77.026494</td>\n",
       "      <td>05-04-2022</td>\n",
       "      <td>18:00:00</td>\n",
       "      <td>...</td>\n",
       "      <td>Sunny</td>\n",
       "      <td>Medium</td>\n",
       "      <td>0</td>\n",
       "      <td>Buffet</td>\n",
       "      <td>motorcycle</td>\n",
       "      <td>1.0</td>\n",
       "      <td>No</td>\n",
       "      <td>Metropolitian</td>\n",
       "      <td>21</td>\n",
       "      <td>7.790401</td>\n",
       "    </tr>\n",
       "    <tr>\n",
       "      <th>4</th>\n",
       "      <td>0x70a2</td>\n",
       "      <td>CHENRES12DEL01</td>\n",
       "      <td>32.0</td>\n",
       "      <td>4.6</td>\n",
       "      <td>12.972793</td>\n",
       "      <td>80.249982</td>\n",
       "      <td>13.012793</td>\n",
       "      <td>80.289982</td>\n",
       "      <td>26-03-2022</td>\n",
       "      <td>13:30:00</td>\n",
       "      <td>...</td>\n",
       "      <td>Cloudy</td>\n",
       "      <td>High</td>\n",
       "      <td>1</td>\n",
       "      <td>Snack</td>\n",
       "      <td>scooter</td>\n",
       "      <td>1.0</td>\n",
       "      <td>No</td>\n",
       "      <td>Metropolitian</td>\n",
       "      <td>30</td>\n",
       "      <td>6.210138</td>\n",
       "    </tr>\n",
       "  </tbody>\n",
       "</table>\n",
       "<p>5 rows × 21 columns</p>\n",
       "</div>"
      ],
      "text/plain": [
       "        ID Delivery_person_ID  Delivery_person_Age  Delivery_person_Ratings  \\\n",
       "0  0x4607     INDORES13DEL02                  37.0                      4.9   \n",
       "1  0xb379     BANGRES18DEL02                  34.0                      4.5   \n",
       "2  0x5d6d     BANGRES19DEL01                  23.0                      4.4   \n",
       "3  0x7a6a    COIMBRES13DEL02                  38.0                      4.7   \n",
       "4  0x70a2     CHENRES12DEL01                  32.0                      4.6   \n",
       "\n",
       "   Restaurant_latitude  Restaurant_longitude  Delivery_location_latitude  \\\n",
       "0            22.745049             75.892471                   22.765049   \n",
       "1            12.913041             77.683237                   13.043041   \n",
       "2            12.914264             77.678400                   12.924264   \n",
       "3            11.003669             76.976494                   11.053669   \n",
       "4            12.972793             80.249982                   13.012793   \n",
       "\n",
       "   Delivery_location_longitude  Order_Date Time_Orderd  ... Weatherconditions  \\\n",
       "0                    75.912471  19-03-2022    11:30:00  ...             Sunny   \n",
       "1                    77.813237  25-03-2022    19:45:00  ...            Stormy   \n",
       "2                    77.688400  19-03-2022    08:30:00  ...        Sandstorms   \n",
       "3                    77.026494  05-04-2022    18:00:00  ...             Sunny   \n",
       "4                    80.289982  26-03-2022    13:30:00  ...            Cloudy   \n",
       "\n",
       "  Road_traffic_density Vehicle_condition  Type_of_order Type_of_vehicle  \\\n",
       "0                 High                 2          Snack      motorcycle   \n",
       "1                  Jam                 2          Snack         scooter   \n",
       "2                  Low                 0         Drinks      motorcycle   \n",
       "3               Medium                 0         Buffet      motorcycle   \n",
       "4                 High                 1          Snack         scooter   \n",
       "\n",
       "  multiple_deliveries  Festival           City Time_taken(min)   Distance  \n",
       "0                 0.0        No          Urban              24   3.025149  \n",
       "1                 1.0        No  Metropolitian              33  20.183530  \n",
       "2                 1.0        No          Urban              26   1.552758  \n",
       "3                 1.0        No  Metropolitian              21   7.790401  \n",
       "4                 1.0        No  Metropolitian              30   6.210138  \n",
       "\n",
       "[5 rows x 21 columns]"
      ]
     },
     "execution_count": 2,
     "metadata": {},
     "output_type": "execute_result"
    }
   ],
   "source": [
    "df = pd.read_csv(\"Clean Data.csv\")\n",
    "df.head()"
   ]
  },
  {
   "cell_type": "markdown",
   "id": "637ec7e8-2ab3-44b6-a8b3-4898a587c1cf",
   "metadata": {
    "tags": []
   },
   "source": [
    "### Feature Engineering"
   ]
  },
  {
   "cell_type": "code",
   "execution_count": 3,
   "id": "83923f11-eeaa-4adb-9b72-915bd2c7501d",
   "metadata": {
    "tags": []
   },
   "outputs": [
    {
     "data": {
      "text/plain": [
       "array(['Sunny', 'Stormy', 'Sandstorms', 'Cloudy', 'Fog', 'Windy'],\n",
       "      dtype=object)"
      ]
     },
     "execution_count": 3,
     "metadata": {},
     "output_type": "execute_result"
    }
   ],
   "source": [
    "df.Weatherconditions.unique()"
   ]
  },
  {
   "cell_type": "code",
   "execution_count": 4,
   "id": "cefeb9d3-3a6f-43f2-97d0-acc0d0d36b87",
   "metadata": {
    "tags": []
   },
   "outputs": [
    {
     "data": {
      "text/plain": [
       "{'Sunny': 0, 'Stormy': 1, 'Sandstorms': 2, 'Cloudy': 3, 'Fog': 4, 'Windy': 5}"
      ]
     },
     "execution_count": 4,
     "metadata": {},
     "output_type": "execute_result"
    }
   ],
   "source": [
    "weather = dict()\n",
    "for i in range(len(df.Weatherconditions.unique())):\n",
    "    weather[df.Weatherconditions.unique()[i]] = i\n",
    "weather"
   ]
  },
  {
   "cell_type": "code",
   "execution_count": 5,
   "id": "2fb77c42-4282-4dce-a9a7-566868f12462",
   "metadata": {
    "tags": []
   },
   "outputs": [
    {
     "data": {
      "text/plain": [
       "array([0, 1, 2, 3, 4, 5], dtype=int64)"
      ]
     },
     "execution_count": 5,
     "metadata": {},
     "output_type": "execute_result"
    }
   ],
   "source": [
    "df['WeatherMapped'] = df['Weatherconditions'].map(weather)\n",
    "df['WeatherMapped'].unique()"
   ]
  },
  {
   "cell_type": "code",
   "execution_count": 6,
   "id": "efbfbb3f-4b56-445e-8e55-65aa43bad279",
   "metadata": {
    "tags": []
   },
   "outputs": [
    {
     "data": {
      "text/plain": [
       "array(['High', 'Jam', 'Low', 'Medium'], dtype=object)"
      ]
     },
     "execution_count": 6,
     "metadata": {},
     "output_type": "execute_result"
    }
   ],
   "source": [
    "df['Road_traffic_density'].unique()"
   ]
  },
  {
   "cell_type": "code",
   "execution_count": 7,
   "id": "b721b78d-cb54-48ff-9818-39bad4b26890",
   "metadata": {
    "tags": []
   },
   "outputs": [
    {
     "data": {
      "text/plain": [
       "{'Low': 0, 'Medium': 1, 'High': 2, 'Jam': 3}"
      ]
     },
     "execution_count": 7,
     "metadata": {},
     "output_type": "execute_result"
    }
   ],
   "source": [
    "traffic = {\"Low\":0,\"Medium\":1,\"High\":2,\"Jam\":3}\n",
    "traffic"
   ]
  },
  {
   "cell_type": "code",
   "execution_count": 8,
   "id": "7b44dd04-3cf4-495d-8c9d-d64bd05be819",
   "metadata": {
    "tags": []
   },
   "outputs": [
    {
     "data": {
      "text/plain": [
       "array([2, 3, 0, 1], dtype=int64)"
      ]
     },
     "execution_count": 8,
     "metadata": {},
     "output_type": "execute_result"
    }
   ],
   "source": [
    "df['TrafficMapped'] = df['Road_traffic_density'].map(traffic)\n",
    "df['TrafficMapped'].unique()"
   ]
  },
  {
   "cell_type": "code",
   "execution_count": 9,
   "id": "e9b9e39b-768d-4c53-ac96-1431e3fa901f",
   "metadata": {
    "tags": []
   },
   "outputs": [
    {
     "name": "stdout",
     "output_type": "stream",
     "text": [
      "['Snack' 'Drinks' 'Buffet' 'Meal']\n",
      "{'Snack': 0, 'Drinks': 1, 'Buffet': 2, 'Meal': 3}\n"
     ]
    }
   ],
   "source": [
    "print(df['Type_of_order'].unique())\n",
    "order = dict()\n",
    "for i in range(len(df['Type_of_order'].unique())):\n",
    "    order[df['Type_of_order'].unique()[i]] = i\n",
    "print(order)"
   ]
  },
  {
   "cell_type": "code",
   "execution_count": 10,
   "id": "ed18537f-e1e3-4892-b7b2-ddc73ab98449",
   "metadata": {
    "tags": []
   },
   "outputs": [
    {
     "data": {
      "text/plain": [
       "array([0, 1, 2, 3], dtype=int64)"
      ]
     },
     "execution_count": 10,
     "metadata": {},
     "output_type": "execute_result"
    }
   ],
   "source": [
    "df['OrderTypeMapped'] = df['Type_of_order'].map(order)\n",
    "df['OrderTypeMapped'].unique()"
   ]
  },
  {
   "cell_type": "code",
   "execution_count": 11,
   "id": "5463a778-9bab-4d40-b4ff-80b2b9a12adb",
   "metadata": {
    "tags": []
   },
   "outputs": [
    {
     "name": "stdout",
     "output_type": "stream",
     "text": [
      "['motorcycle' 'scooter' 'electric_scooter' 'bicycle']\n",
      "{'motorcycle': 0, 'scooter': 1, 'electric_scooter': 2, 'bicycle': 3}\n"
     ]
    }
   ],
   "source": [
    "print(df['Type_of_vehicle'].unique())\n",
    "vehicle = dict()\n",
    "for i in range(len(df['Type_of_vehicle'].unique())):\n",
    "    vehicle[df['Type_of_vehicle'].unique()[i]] = i\n",
    "print(vehicle)"
   ]
  },
  {
   "cell_type": "code",
   "execution_count": 12,
   "id": "93e8b447-4762-4e27-bf32-5217dba4b644",
   "metadata": {
    "tags": []
   },
   "outputs": [
    {
     "data": {
      "text/plain": [
       "array([0, 1, 2, 3], dtype=int64)"
      ]
     },
     "execution_count": 12,
     "metadata": {},
     "output_type": "execute_result"
    }
   ],
   "source": [
    "df['VehicleMapped'] = df['Type_of_vehicle'].map(vehicle)\n",
    "df['VehicleMapped'].unique()"
   ]
  },
  {
   "cell_type": "code",
   "execution_count": 13,
   "id": "ca818133-8f01-4af3-9351-1f4149e20d74",
   "metadata": {
    "tags": []
   },
   "outputs": [
    {
     "name": "stdout",
     "output_type": "stream",
     "text": [
      "['No' 'Yes']\n",
      "{'No': 0, 'Yes': 1}\n"
     ]
    }
   ],
   "source": [
    "print(df['Festival'].unique())\n",
    "fest = dict()\n",
    "for i in range(len(df['Festival'].unique())):\n",
    "    fest[df['Festival'].unique()[i]] = i\n",
    "print(fest)"
   ]
  },
  {
   "cell_type": "code",
   "execution_count": 14,
   "id": "9c078891-cac6-4224-a846-17582e731d28",
   "metadata": {
    "tags": []
   },
   "outputs": [
    {
     "data": {
      "text/plain": [
       "array([0, 1], dtype=int64)"
      ]
     },
     "execution_count": 14,
     "metadata": {},
     "output_type": "execute_result"
    }
   ],
   "source": [
    "df['FestMapped'] = df['Festival'].map(fest)\n",
    "df['FestMapped'].unique()"
   ]
  },
  {
   "cell_type": "code",
   "execution_count": 15,
   "id": "e62b2e2b-962c-4140-b380-f1856d4bcfba",
   "metadata": {
    "tags": []
   },
   "outputs": [
    {
     "name": "stdout",
     "output_type": "stream",
     "text": [
      "['Urban' 'Metropolitian' 'Semi-Urban']\n",
      "{'Urban': 0, 'Metropolitian': 1, 'Semi-Urban': 2}\n"
     ]
    }
   ],
   "source": [
    "print(df['City'].unique())\n",
    "city = dict()\n",
    "for i in range(len(df['City'].unique())):\n",
    "    city[df['City'].unique()[i]] = i\n",
    "print(city)"
   ]
  },
  {
   "cell_type": "code",
   "execution_count": 16,
   "id": "593a9d5c-8af3-4390-bb51-dea3a4e5194c",
   "metadata": {
    "tags": []
   },
   "outputs": [
    {
     "data": {
      "text/plain": [
       "array([0, 1, 2], dtype=int64)"
      ]
     },
     "execution_count": 16,
     "metadata": {},
     "output_type": "execute_result"
    }
   ],
   "source": [
    "df['CityMapped'] = df['City'].map(city)\n",
    "df['CityMapped'].unique()"
   ]
  },
  {
   "cell_type": "code",
   "execution_count": 17,
   "id": "e6caf16b-9a5e-44d9-8d3d-e4fda17293a6",
   "metadata": {
    "tags": []
   },
   "outputs": [
    {
     "data": {
      "text/html": [
       "<div>\n",
       "<style scoped>\n",
       "    .dataframe tbody tr th:only-of-type {\n",
       "        vertical-align: middle;\n",
       "    }\n",
       "\n",
       "    .dataframe tbody tr th {\n",
       "        vertical-align: top;\n",
       "    }\n",
       "\n",
       "    .dataframe thead th {\n",
       "        text-align: right;\n",
       "    }\n",
       "</style>\n",
       "<table border=\"1\" class=\"dataframe\">\n",
       "  <thead>\n",
       "    <tr style=\"text-align: right;\">\n",
       "      <th></th>\n",
       "      <th>ID</th>\n",
       "      <th>Delivery_person_ID</th>\n",
       "      <th>Delivery_person_Age</th>\n",
       "      <th>Delivery_person_Ratings</th>\n",
       "      <th>Restaurant_latitude</th>\n",
       "      <th>Restaurant_longitude</th>\n",
       "      <th>Delivery_location_latitude</th>\n",
       "      <th>Delivery_location_longitude</th>\n",
       "      <th>Order_Date</th>\n",
       "      <th>Time_Orderd</th>\n",
       "      <th>...</th>\n",
       "      <th>Festival</th>\n",
       "      <th>City</th>\n",
       "      <th>Time_taken(min)</th>\n",
       "      <th>Distance</th>\n",
       "      <th>WeatherMapped</th>\n",
       "      <th>TrafficMapped</th>\n",
       "      <th>OrderTypeMapped</th>\n",
       "      <th>VehicleMapped</th>\n",
       "      <th>FestMapped</th>\n",
       "      <th>CityMapped</th>\n",
       "    </tr>\n",
       "  </thead>\n",
       "  <tbody>\n",
       "    <tr>\n",
       "      <th>0</th>\n",
       "      <td>0x4607</td>\n",
       "      <td>INDORES13DEL02</td>\n",
       "      <td>37.0</td>\n",
       "      <td>4.9</td>\n",
       "      <td>22.745049</td>\n",
       "      <td>75.892471</td>\n",
       "      <td>22.765049</td>\n",
       "      <td>75.912471</td>\n",
       "      <td>19-03-2022</td>\n",
       "      <td>11:30:00</td>\n",
       "      <td>...</td>\n",
       "      <td>No</td>\n",
       "      <td>Urban</td>\n",
       "      <td>24</td>\n",
       "      <td>3.025149</td>\n",
       "      <td>0</td>\n",
       "      <td>2</td>\n",
       "      <td>0</td>\n",
       "      <td>0</td>\n",
       "      <td>0</td>\n",
       "      <td>0</td>\n",
       "    </tr>\n",
       "    <tr>\n",
       "      <th>1</th>\n",
       "      <td>0xb379</td>\n",
       "      <td>BANGRES18DEL02</td>\n",
       "      <td>34.0</td>\n",
       "      <td>4.5</td>\n",
       "      <td>12.913041</td>\n",
       "      <td>77.683237</td>\n",
       "      <td>13.043041</td>\n",
       "      <td>77.813237</td>\n",
       "      <td>25-03-2022</td>\n",
       "      <td>19:45:00</td>\n",
       "      <td>...</td>\n",
       "      <td>No</td>\n",
       "      <td>Metropolitian</td>\n",
       "      <td>33</td>\n",
       "      <td>20.183530</td>\n",
       "      <td>1</td>\n",
       "      <td>3</td>\n",
       "      <td>0</td>\n",
       "      <td>1</td>\n",
       "      <td>0</td>\n",
       "      <td>1</td>\n",
       "    </tr>\n",
       "    <tr>\n",
       "      <th>2</th>\n",
       "      <td>0x5d6d</td>\n",
       "      <td>BANGRES19DEL01</td>\n",
       "      <td>23.0</td>\n",
       "      <td>4.4</td>\n",
       "      <td>12.914264</td>\n",
       "      <td>77.678400</td>\n",
       "      <td>12.924264</td>\n",
       "      <td>77.688400</td>\n",
       "      <td>19-03-2022</td>\n",
       "      <td>08:30:00</td>\n",
       "      <td>...</td>\n",
       "      <td>No</td>\n",
       "      <td>Urban</td>\n",
       "      <td>26</td>\n",
       "      <td>1.552758</td>\n",
       "      <td>2</td>\n",
       "      <td>0</td>\n",
       "      <td>1</td>\n",
       "      <td>0</td>\n",
       "      <td>0</td>\n",
       "      <td>0</td>\n",
       "    </tr>\n",
       "    <tr>\n",
       "      <th>3</th>\n",
       "      <td>0x7a6a</td>\n",
       "      <td>COIMBRES13DEL02</td>\n",
       "      <td>38.0</td>\n",
       "      <td>4.7</td>\n",
       "      <td>11.003669</td>\n",
       "      <td>76.976494</td>\n",
       "      <td>11.053669</td>\n",
       "      <td>77.026494</td>\n",
       "      <td>05-04-2022</td>\n",
       "      <td>18:00:00</td>\n",
       "      <td>...</td>\n",
       "      <td>No</td>\n",
       "      <td>Metropolitian</td>\n",
       "      <td>21</td>\n",
       "      <td>7.790401</td>\n",
       "      <td>0</td>\n",
       "      <td>1</td>\n",
       "      <td>2</td>\n",
       "      <td>0</td>\n",
       "      <td>0</td>\n",
       "      <td>1</td>\n",
       "    </tr>\n",
       "    <tr>\n",
       "      <th>4</th>\n",
       "      <td>0x70a2</td>\n",
       "      <td>CHENRES12DEL01</td>\n",
       "      <td>32.0</td>\n",
       "      <td>4.6</td>\n",
       "      <td>12.972793</td>\n",
       "      <td>80.249982</td>\n",
       "      <td>13.012793</td>\n",
       "      <td>80.289982</td>\n",
       "      <td>26-03-2022</td>\n",
       "      <td>13:30:00</td>\n",
       "      <td>...</td>\n",
       "      <td>No</td>\n",
       "      <td>Metropolitian</td>\n",
       "      <td>30</td>\n",
       "      <td>6.210138</td>\n",
       "      <td>3</td>\n",
       "      <td>2</td>\n",
       "      <td>0</td>\n",
       "      <td>1</td>\n",
       "      <td>0</td>\n",
       "      <td>1</td>\n",
       "    </tr>\n",
       "  </tbody>\n",
       "</table>\n",
       "<p>5 rows × 27 columns</p>\n",
       "</div>"
      ],
      "text/plain": [
       "        ID Delivery_person_ID  Delivery_person_Age  Delivery_person_Ratings  \\\n",
       "0  0x4607     INDORES13DEL02                  37.0                      4.9   \n",
       "1  0xb379     BANGRES18DEL02                  34.0                      4.5   \n",
       "2  0x5d6d     BANGRES19DEL01                  23.0                      4.4   \n",
       "3  0x7a6a    COIMBRES13DEL02                  38.0                      4.7   \n",
       "4  0x70a2     CHENRES12DEL01                  32.0                      4.6   \n",
       "\n",
       "   Restaurant_latitude  Restaurant_longitude  Delivery_location_latitude  \\\n",
       "0            22.745049             75.892471                   22.765049   \n",
       "1            12.913041             77.683237                   13.043041   \n",
       "2            12.914264             77.678400                   12.924264   \n",
       "3            11.003669             76.976494                   11.053669   \n",
       "4            12.972793             80.249982                   13.012793   \n",
       "\n",
       "   Delivery_location_longitude  Order_Date Time_Orderd  ... Festival  \\\n",
       "0                    75.912471  19-03-2022    11:30:00  ...       No   \n",
       "1                    77.813237  25-03-2022    19:45:00  ...       No   \n",
       "2                    77.688400  19-03-2022    08:30:00  ...       No   \n",
       "3                    77.026494  05-04-2022    18:00:00  ...       No   \n",
       "4                    80.289982  26-03-2022    13:30:00  ...       No   \n",
       "\n",
       "            City Time_taken(min)   Distance WeatherMapped TrafficMapped  \\\n",
       "0          Urban              24   3.025149             0             2   \n",
       "1  Metropolitian              33  20.183530             1             3   \n",
       "2          Urban              26   1.552758             2             0   \n",
       "3  Metropolitian              21   7.790401             0             1   \n",
       "4  Metropolitian              30   6.210138             3             2   \n",
       "\n",
       "   OrderTypeMapped VehicleMapped FestMapped  CityMapped  \n",
       "0                0             0          0           0  \n",
       "1                0             1          0           1  \n",
       "2                1             0          0           0  \n",
       "3                2             0          0           1  \n",
       "4                0             1          0           1  \n",
       "\n",
       "[5 rows x 27 columns]"
      ]
     },
     "execution_count": 17,
     "metadata": {},
     "output_type": "execute_result"
    }
   ],
   "source": [
    "df.head()"
   ]
  },
  {
   "cell_type": "markdown",
   "id": "8df47578-b119-42de-9034-ba5e504450a4",
   "metadata": {},
   "source": [
    "### Feature Slicing & Splitting"
   ]
  },
  {
   "cell_type": "code",
   "execution_count": 18,
   "id": "049e8134-af71-4ec0-a340-542d3c8a1eb4",
   "metadata": {
    "tags": []
   },
   "outputs": [
    {
     "data": {
      "text/plain": [
       "Index(['ID', 'Delivery_person_ID', 'Delivery_person_Age',\n",
       "       'Delivery_person_Ratings', 'Restaurant_latitude',\n",
       "       'Restaurant_longitude', 'Delivery_location_latitude',\n",
       "       'Delivery_location_longitude', 'Order_Date', 'Time_Orderd',\n",
       "       'Time_Order_picked', 'Weatherconditions', 'Road_traffic_density',\n",
       "       'Vehicle_condition', 'Type_of_order', 'Type_of_vehicle',\n",
       "       'multiple_deliveries', 'Festival', 'City', 'Time_taken(min)',\n",
       "       'Distance', 'WeatherMapped', 'TrafficMapped', 'OrderTypeMapped',\n",
       "       'VehicleMapped', 'FestMapped', 'CityMapped'],\n",
       "      dtype='object')"
      ]
     },
     "execution_count": 18,
     "metadata": {},
     "output_type": "execute_result"
    }
   ],
   "source": [
    "df.columns"
   ]
  },
  {
   "cell_type": "code",
   "execution_count": 19,
   "id": "3cdc7619-7a37-4901-8409-ed4e185afba3",
   "metadata": {
    "tags": []
   },
   "outputs": [],
   "source": [
    "x = df[['Delivery_person_Age','Delivery_person_Ratings','Distance',\n",
    "        'WeatherMapped', 'TrafficMapped', 'OrderTypeMapped',\n",
    "        'VehicleMapped', 'FestMapped', 'CityMapped']]\n",
    "y = df['Time_taken(min)']"
   ]
  },
  {
   "cell_type": "code",
   "execution_count": 20,
   "id": "886d3ab6-2b86-45d2-8829-710355378c97",
   "metadata": {
    "tags": []
   },
   "outputs": [],
   "source": [
    "x_train,x_test,y_train,y_test = train_test_split(x,y,test_size=0.15)"
   ]
  },
  {
   "cell_type": "markdown",
   "id": "12ee720d-dfcf-49ac-9d90-b6c3b2fcd456",
   "metadata": {},
   "source": [
    "### Model Building"
   ]
  },
  {
   "cell_type": "code",
   "execution_count": 21,
   "id": "d44e7e09-0a8f-410b-a925-4cdca5549574",
   "metadata": {
    "tags": []
   },
   "outputs": [],
   "source": [
    "from keras.models import Sequential\n",
    "from keras.layers import Dense\n",
    "from keras.layers import LSTM\n",
    "from keras.layers import Dropout\n",
    "from keras.layers import Activation"
   ]
  },
  {
   "cell_type": "code",
   "execution_count": 22,
   "id": "b8ec0ce9-092e-441a-9b8e-9b6c1dd2a672",
   "metadata": {
    "tags": []
   },
   "outputs": [],
   "source": [
    "model = Sequential()"
   ]
  },
  {
   "cell_type": "code",
   "execution_count": 23,
   "id": "a91bc6d7-28a7-4cfc-b9ba-2aeb2444ebb6",
   "metadata": {
    "tags": []
   },
   "outputs": [],
   "source": [
    "model.add(LSTM(128,return_sequences=True,input_shape=(x_train.shape[1],1)))\n",
    "model.add(Dropout(0.25))\n",
    "model.add(LSTM(64,return_sequences=False))\n",
    "model.add(Dropout(0.25))\n",
    "model.add(Dense(25))\n",
    "model.add(Dropout(0.25))\n",
    "model.add(Dense(1))"
   ]
  },
  {
   "cell_type": "code",
   "execution_count": 24,
   "id": "b0259e2f-a983-4adb-9b1c-0e8b0e652677",
   "metadata": {
    "tags": []
   },
   "outputs": [
    {
     "name": "stdout",
     "output_type": "stream",
     "text": [
      "Model: \"sequential\"\n",
      "_________________________________________________________________\n",
      " Layer (type)                Output Shape              Param #   \n",
      "=================================================================\n",
      " lstm (LSTM)                 (None, 9, 128)            66560     \n",
      "                                                                 \n",
      " dropout (Dropout)           (None, 9, 128)            0         \n",
      "                                                                 \n",
      " lstm_1 (LSTM)               (None, 64)                49408     \n",
      "                                                                 \n",
      " dropout_1 (Dropout)         (None, 64)                0         \n",
      "                                                                 \n",
      " dense (Dense)               (None, 25)                1625      \n",
      "                                                                 \n",
      " dropout_2 (Dropout)         (None, 25)                0         \n",
      "                                                                 \n",
      " dense_1 (Dense)             (None, 1)                 26        \n",
      "                                                                 \n",
      "=================================================================\n",
      "Total params: 117619 (459.45 KB)\n",
      "Trainable params: 117619 (459.45 KB)\n",
      "Non-trainable params: 0 (0.00 Byte)\n",
      "_________________________________________________________________\n"
     ]
    }
   ],
   "source": [
    "model.summary()"
   ]
  },
  {
   "cell_type": "code",
   "execution_count": 25,
   "id": "f0229095-ceca-412a-b34d-58059586d2b6",
   "metadata": {
    "tags": []
   },
   "outputs": [
    {
     "name": "stdout",
     "output_type": "stream",
     "text": [
      "Epoch 1/25\n",
      "1212/1212 [==============================] - 45s 30ms/step - loss: 106.6041\n",
      "Epoch 2/25\n",
      "1212/1212 [==============================] - 29s 24ms/step - loss: 67.8233\n",
      "Epoch 3/25\n",
      "1212/1212 [==============================] - 28s 23ms/step - loss: 54.7903\n",
      "Epoch 4/25\n",
      "1212/1212 [==============================] - 28s 23ms/step - loss: 49.9646\n",
      "Epoch 5/25\n",
      "1212/1212 [==============================] - 28s 23ms/step - loss: 46.6006\n",
      "Epoch 6/25\n",
      "1212/1212 [==============================] - 28s 23ms/step - loss: 42.9397\n",
      "Epoch 7/25\n",
      "1212/1212 [==============================] - 28s 23ms/step - loss: 41.0391\n",
      "Epoch 8/25\n",
      "1212/1212 [==============================] - 28s 23ms/step - loss: 39.1019\n",
      "Epoch 9/25\n",
      "1212/1212 [==============================] - 28s 23ms/step - loss: 37.7925\n",
      "Epoch 10/25\n",
      "1212/1212 [==============================] - 29s 24ms/step - loss: 37.1206\n",
      "Epoch 11/25\n",
      "1212/1212 [==============================] - 31s 25ms/step - loss: 36.5873\n",
      "Epoch 12/25\n",
      "1212/1212 [==============================] - 29s 24ms/step - loss: 35.2066\n",
      "Epoch 13/25\n",
      "1212/1212 [==============================] - 28s 23ms/step - loss: 34.2539\n",
      "Epoch 14/25\n",
      "1212/1212 [==============================] - 28s 24ms/step - loss: 33.8742\n",
      "Epoch 15/25\n",
      "1212/1212 [==============================] - 29s 24ms/step - loss: 33.3212\n",
      "Epoch 16/25\n",
      "1212/1212 [==============================] - 29s 24ms/step - loss: 32.6531\n",
      "Epoch 17/25\n",
      "1212/1212 [==============================] - 29s 24ms/step - loss: 32.9820\n",
      "Epoch 18/25\n",
      "1212/1212 [==============================] - 28s 24ms/step - loss: 31.9985\n",
      "Epoch 19/25\n",
      "1212/1212 [==============================] - 28s 23ms/step - loss: 32.0128\n",
      "Epoch 20/25\n",
      "1212/1212 [==============================] - 28s 23ms/step - loss: 30.6068\n",
      "Epoch 21/25\n",
      "1212/1212 [==============================] - 28s 23ms/step - loss: 30.4702\n",
      "Epoch 22/25\n",
      "1212/1212 [==============================] - 28s 23ms/step - loss: 30.3116\n",
      "Epoch 23/25\n",
      "1212/1212 [==============================] - 29s 24ms/step - loss: 30.3573\n",
      "Epoch 24/25\n",
      "1212/1212 [==============================] - 28s 23ms/step - loss: 30.0191\n",
      "Epoch 25/25\n",
      "1212/1212 [==============================] - 28s 23ms/step - loss: 29.5190\n"
     ]
    },
    {
     "data": {
      "text/plain": [
       "<keras.src.callbacks.History at 0x16061be9910>"
      ]
     },
     "execution_count": 25,
     "metadata": {},
     "output_type": "execute_result"
    }
   ],
   "source": [
    "model.compile(optimizer='adam', loss='mean_squared_error')\n",
    "model.fit(x_train, y_train, batch_size=32, epochs=25)"
   ]
  },
  {
   "cell_type": "code",
   "execution_count": 26,
   "id": "2ab5b7b7-6aec-47b6-b1ef-d2dd87417ffd",
   "metadata": {
    "tags": []
   },
   "outputs": [],
   "source": [
    "food_pred_json = model.to_json()"
   ]
  },
  {
   "cell_type": "code",
   "execution_count": 27,
   "id": "624b7c80-6691-48c5-a402-612c8a232936",
   "metadata": {
    "tags": []
   },
   "outputs": [
    {
     "name": "stdout",
     "output_type": "stream",
     "text": [
      "Saved Model\n"
     ]
    }
   ],
   "source": [
    "with open(\"Food Delivery Time Prediction.json\",\"w\") as json_file:\n",
    "    json_file.write(food_pred_json)\n",
    "model.save_weights(\"Model Weights.h5\")\n",
    "print(\"Saved Model\")"
   ]
  }
 ],
 "metadata": {
  "kernelspec": {
   "display_name": "Python 3 (ipykernel)",
   "language": "python",
   "name": "python3"
  },
  "language_info": {
   "codemirror_mode": {
    "name": "ipython",
    "version": 3
   },
   "file_extension": ".py",
   "mimetype": "text/x-python",
   "name": "python",
   "nbconvert_exporter": "python",
   "pygments_lexer": "ipython3",
   "version": "3.11.5"
  }
 },
 "nbformat": 4,
 "nbformat_minor": 5
}
